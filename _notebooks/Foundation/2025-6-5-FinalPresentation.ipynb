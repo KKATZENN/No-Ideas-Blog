{
 "cells": [
  {
   "cell_type": "code",
   "execution_count": null,
   "metadata": {
    "vscode": {
     "languageId": "yaml"
    }
   },
   "outputs": [],
   "source": [
    "---\n",
    "title: Final Presentation\n",
    "description: The final for CSSE 2\n",
    "layout: post\n",
    "comments: true\n",
    "permalink: /csse2/final/\n",
    "---"
   ]
  },
  {
   "cell_type": "markdown",
   "metadata": {},
   "source": [
    "## = Reflection On Work =\n",
    "\n",
    "Over the course of Tri 2 and 3, I have been learning loads  of different things about coding. I am now able to use my knowledge about JavaScript to create game levels with features such as transition screens, projectiles, and enemies. \n",
    "\n",
    "## = Software Engineering Concepts =\n",
    "\n",
    "**Common Practices**\n",
    "- Planning changes: Creating plans and ideations to create pitches for the class.\n",
    "- Checklists: To-do lists that track the completion of tasks.\n",
    "- Burndowns: Tracked, visual progress of tasks against time.\n",
    "- Coding with comments: Writing explanatory notes to clarify the code and help future coders\n",
    "- Help documentation: Showing understanding and using the codebase.\n",
    "- Source control: Record and management of changes to code using Git or other tools.\n",
    "- Forking: Making a copy of a project to work independently on it.\n",
    "- Branching: Branching off and developing code to intergrate back into the main branch.\n",
    "- Building: Packaging code into a usable program.\n",
    "- Testing & verification: Ensuring that the program and code works using make tools.\n",
    "\n",
    "- Pull requests: Submitting changes for review to be accepted before pulling the changes into the main project.\n",
    "- Merging/integrating: Combining branches into the main codebase.\n",
    "- Deployment: Publishing software to a production environment.\n",
    "Presentation: Presenting your work to colleagues.\n",
    "Live reviews: Feedback sessions with colleagues or instructors.\n",
    "Demos: Showcase of working project to demonstrate features.\n",
    "Code reviews: Checking each other's code for quality.\n",
    "Revising plans: Updating your goals, ideation, and strategy based on feedback.\n",
    "\n",
    "**Data Types, Operators, Control Structures**\n",
    "\n",
    "- Numbers: Integers and decimals for calculations.\n",
    "- Strings: Text values in quotes.\n",
    "- Booleans: True/false values.\n",
    "- Arrays: Lists of ordered elements.\n",
    "- JSON objects: Key-value pairs for structured data.\n",
    "\n",
    "- String operations: Combining or modifying text values.\n",
    "- Mathematical operations: Arithmetic like addition, subtraction, multiplication, division. As well as;  greater than; less than; equal to expressions; and trigonometry.\n",
    "- Boolean expressions: Logical comparisons like &&, ||, ==.\n",
    "\n",
    "- Iteration: Loops like `for` and `while` that repeat tasks.\n",
    "- Conditions: `if/else` logic to run code based on selected attributes.\n",
    "- Nested conditions: Conditions within conditions for complex logic.\n",
    "\n",
    "**Input/output, classes, and other concepts**\n",
    "\n",
    "- HTML5: Text boxes, checkboxes, and other user inputs.\n",
    "- Validation: Ensuring input data is correct.\n",
    "- Key events: Detecting keyboard input in real-time.\n",
    "- DOM: Accessing and modifying webpage elements with JavaScript.\n",
    "\n",
    "- Classes: Reusable object blueprints.\n",
    "- Methods: Functions that belong to classes.\n",
    "- Instantiating objects: Making usable objects from classes.\n",
    "- Using objects: Accessing and modifying data inside objects.\n",
    "- Calling methods: Running the behavior of the class.\n",
    "- Parameters: Input values for methods or functions.\n",
    "- Return values: Outputs from functions or methods.\n",
    "\n",
    "- SRP (Single Responsibility Principle): Each function/class should only do one thing, and do it well.\n",
    "- Object Literal: Defining objects directly using curly braces.\n",
    "- Object Instance: Objects created from class blueprints.\n",
    "- FSMs (Finite State Machines): Managing game states like menus, battles, levels.\n",
    "- Inheritance: Extending classes to reuse code and structure, reducing clutter and simplifying.\n",
    "\n",
    "## = Presenting at NATM ="
   ]
  }
 ],
 "metadata": {
  "language_info": {
   "name": "python"
  }
 },
 "nbformat": 4,
 "nbformat_minor": 2
}

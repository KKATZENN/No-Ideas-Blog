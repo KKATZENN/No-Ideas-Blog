{
 "cells": [
  {
   "cell_type": "code",
   "execution_count": null,
   "metadata": {
    "vscode": {
     "languageId": "yaml"
    }
   },
   "outputs": [],
   "source": [
    "---\n",
    "title: Final Presentation\n",
    "description: The final for CSSE 2\n",
    "layout: post\n",
    "comments: true\n",
    "permalink:/csse2/final\n",
    "---"
   ]
  },
  {
   "cell_type": "markdown",
   "metadata": {},
   "source": [
    "## = Reflection On Work =\n",
    "\n",
    "Over the course of Tri 2 and 3, I have been learning loads  of different things about coding. I am now able to use my knowledge about JavaScript to create game levels with features such as transition screens, projectiles, and enemies. \n",
    "\n",
    "## = Software Engineering Concepts =\n",
    "\n",
    "**Common Practices**\n",
    "- Planning changes: Creating plans and ideations to create pitches for the class.\n",
    "- Checklists: To-do lists that track the completion of tasks.\n",
    "- Burndowns: Tracked, visual progress of tasks against time.\n",
    "- Coding with comments: Writing explanatory notes to clarify the code and help future coders\n",
    "- Help documentation: Showing understanding and using the codebase.\n",
    "- Source control: Record and management of changes to code using Git or other tools.\n",
    "- Forking: Making a copy of a project to work independently on it.\n",
    "\n",
    "- Branching: Branching off and developing code to intergrate back into the main branch.\n",
    "- Building: Compiling and packaging code into a usable program.\n",
    "- Testing & verification: Ensuring the program works as expected with verification make tools.\n",
    "- Pull requests: Submitting changes for review before merging into the main project.\n",
    "- Merging/integrating: Combining branches into the main codebase.\n",
    "- Deployment: Publishing software to a production environment.\n",
    "\n",
    "**Data Types, Operators, Control Structures**\n",
    "\n",
    "## = Presenting at NATM ="
   ]
  }
 ],
 "metadata": {
  "language_info": {
   "name": "python"
  }
 },
 "nbformat": 4,
 "nbformat_minor": 2
}

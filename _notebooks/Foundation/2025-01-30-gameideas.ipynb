{
 "cells": [
  {
   "cell_type": "raw",
   "metadata": {
    "vscode": {
     "languageId": "raw"
    }
   },
   "source": [
    "---\n",
    "layout: post\n",
    "title: Ideas for my games \n",
    "description: Here are my ideas for games!\n",
    "permalink: /csse/ideas/\n",
    "author:Paul Yue\n",
    "comments: true\n",
    "---"
   ]
  },
  {
   "cell_type": "markdown",
   "metadata": {},
   "source": [
    "## Big ideas:\n",
    "\n",
    "The player, who is a full body anatomy model that has come to life, will adventure a land of cats. The land is snowy and vibrant, full of trees and cats. The town that you spawn in is enclosed, and you need persmission from the mayor to leave. Every cat will be able to be interacted with, some with basic dialogue, and some that have minigames. Completing the minigames will allow to gain items, which will get you closer to leaving. After exiting the town, there will be more snow, except you no logner have any cats to help you. The level after that will be a desert, littered with remanants of life, as well as an oasis town with dogs."
   ]
  }
 ],
 "metadata": {
  "language_info": {
   "name": "python"
  }
 },
 "nbformat": 4,
 "nbformat_minor": 2
}

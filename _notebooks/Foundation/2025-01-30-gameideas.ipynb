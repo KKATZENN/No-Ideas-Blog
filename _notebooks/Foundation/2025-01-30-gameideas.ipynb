{
 "cells": [
  {
   "cell_type": "raw",
   "metadata": {
    "vscode": {
     "languageId": "raw"
    }
   },
   "source": [
    "---\n",
    "layout: post\n",
    "title: Ideas for my games \n",
    "description: Here are my ideas for games!\n",
    "permalink: /csse/ideas/\n",
    "author:Paul Yue\n",
    "comments: true\n",
    "---"
   ]
  },
  {
   "cell_type": "markdown",
   "metadata": {},
   "source": [
    "## Big ideas:\n",
    "\n",
    "The player, who is a full body anatomy model that has come to life, will adventure a land of cats. T"
   ]
  }
 ],
 "metadata": {
  "language_info": {
   "name": "python"
  }
 },
 "nbformat": 4,
 "nbformat_minor": 2
}

{
 "cells": [
  {
   "cell_type": "code",
   "execution_count": null,
   "metadata": {
    "vscode": {
     "languageId": "yaml"
    }
   },
   "outputs": [],
   "source": [
    "---\n",
    "  layout: post\n",
    "  title: Cyber Security presentation\n",
    "  description:  Takeaways and important aspects of Cyber Security\n",
    "  comments: true\n",
    "  ---"
   ]
  },
  {
   "cell_type": "markdown",
   "metadata": {},
   "source": [
    "### Takeways\n",
    "\n",
    "**Vulnerable Things** <br>\n",
    "Schools, buisnesses, and other systems that require the protection of personal information or other assets.\n",
    "\n",
    "**Types of Cyber Attack** <br>\n",
    "-Malware <br>\n",
    "-AI:<br>\n",
    "-Fishing:<br>\n",
    "\n",
    "**Reasons to Join** <br>\n",
    "Tracking someone who commited a crime over the internet is really cool. You can also help loads of people prevent being hacked or cyber attacked. \n",
    "\n",
    "**Passion** <br>\n",
    "Being passsionate about Cyber Security is important. Without a passion for CS, you will quickly find yourself bored and uninterested in your work.\n",
    "\n",
    "**Change from Theory to Practical** <br>\n",
    "Most code that is created to make a cyber attack never makes it farther than testing, so most of Cyber Security is theory and very little in person work.\n",
    "\n",
    "**Updating** <br>\n",
    "Making sure that your certifications are updated every year is crucial to keep on top of the new stuff. Reading the news / reading CS articles can also be a good way to keep on top of changing.\n"
   ]
  },
  {
   "cell_type": "markdown",
   "metadata": {},
   "source": [
    "### Aspects of Cyber Security\n",
    "\n",
    "**Zero Day** <br>\n",
    "When a hole in system is discovered that has not been found by the owners. If one of these are released to the public, there can be multitudes of consequences to users and the owners.\n",
    "\n",
    "**Penetration Testers** <br>\n",
    "If you are good at finding faults in Cyber Security, you could possiblly be hired to help inform people about these and help them fix these issues. \n",
    "\n",
    "**Expressing Importance** <br>\n",
    "Take what you have in Cyber Security and go to buisnesses, teaching them how it will keep them from losing money, as well as protecting personal info.\n",
    "\n",
    "**Future of Cyber** <br>\n",
    "Ai is becoming a more prominent issue, so there needs to be more people specialized in AI code prevention or something/.\n",
    "\n",
    "**Requirements** <br>\n",
    "IT is a very good fundamental to understand if one wants to get into Cyber Security. A CC certification, A+ knowledge ,and N+ knowledge are all important things to understand in Cyber."
   ]
  },
  {
   "cell_type": "markdown",
   "metadata": {},
   "source": [
    "### Extra Credit Code\n",
    "\n",
<<<<<<< HEAD
    "![Pretend that the image loaded correctly](https://github.com/user-attachments/assets/6cbde1d6-caa4-4b16-89b0-d56b4a53e095)"
=======
    "![Pretend that the image loaded correctly](/images/notebooks/foundation/IMG_0711.jpg)"
>>>>>>> c247f60026a4c90a705287c9594ef4d72a225777
   ]
  }
 ],
 "metadata": {
  "language_info": {
   "name": "python"
  }
 },
 "nbformat": 4,
 "nbformat_minor": 2
}

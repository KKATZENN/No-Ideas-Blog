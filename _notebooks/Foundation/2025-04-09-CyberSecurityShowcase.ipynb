{
 "cells": [
  {
   "cell_type": "code",
   "execution_count": null,
   "metadata": {
    "vscode": {
     "languageId": "yaml"
    }
   },
   "outputs": [],
   "source": [
    "---\n",
    "  layout: post\n",
    "  title: Cyber Security presentation\n",
    "  description:  Takeaways and important aspects of Cyber Security\n",
    "  comments: true\n",
    "  ---"
   ]
  },
  {
   "cell_type": "markdown",
   "metadata": {},
   "source": [
    "### Takeways\n",
    "\n",
    "**Vulnerable Things** <br>\n",
    "Schools, buisnesses, and other systems that require the protection of personal information or other assets.\n",
    "\n",
    "**Types of Cyber Attack** <br>\n",
    "-Malware <br>\n",
    "-AI:<br>\n",
    "-Fishing:<br>\n",
    "\n",
    "**Reasons to Join** <br>\n",
    "Tracking someone who commited a crime over the internet is really cool. You can also help loads of people prevent being hacked or cyber attacked. \n",
    "\n",
    "**Next Steps** <br>\n",
    "IT is a very good fundamental to understand if one wants to get into Cyber Security.\n",
    "\n",
    "**Passion** <br>\n",
    "Being passsionate about Cyber Security is important. Without a passion for CS, you will quickly find yourself bored and uninterested in your work."
   ]
  },
  {
   "cell_type": "markdown",
   "metadata": {},
   "source": [
    "### Aspects of Cyber Security\n",
    "\n",
    "**Zero Day** <br>\n",
    "When everyone is vulnerable to a cyber attack (there's more that i don't remember)\n",
    "\n",
    "**Penetration Testers** <br>\n",
    "If you are good at finding faults in Cyber Security, you could possiblly be hired to help inform people about these and help them fix these issues. \n",
    "\n",
    "**Expressing Importance** <br>\n",
    "Take what you have in Cyber Security and go to buisnesses, teaching them how it will keep them from losing money, as well as protecting personal info.\n",
    "\n",
    "**Future of Cyber** <br>\n",
    "Ai is becoming a more prominent issue, so there needs to be more people specialized in AI code prevention or something/"
   ]
  },
  {
   "cell_type": "markdown",
   "metadata": {},
   "source": [
    "### Extra Credit Code\n",
    "\n",
    "![Pretend that the image loaded correctly]()"
   ]
  }
 ],
 "metadata": {
  "language_info": {
   "name": "python"
  }
 },
 "nbformat": 4,
 "nbformat_minor": 2
}

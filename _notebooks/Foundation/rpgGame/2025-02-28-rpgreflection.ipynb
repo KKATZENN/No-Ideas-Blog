{
 "cells": [
  {
   "cell_type": "raw",
   "metadata": {
    "vscode": {
     "languageId": "raw"
    }
   },
   "source": [
    "---\n",
    "title: Reflection\n",
    "layout: post\n",
    "description: A reflection me and Shayan's RPG game and make plans for the future\n",
    "permalink: /rpggame/Reflection\n",
    "author: Paul Yue; Co-game creator - Shayan;\n",
    "comments: true\n",
    "---"
   ]
  },
  {
   "cell_type": "markdown",
   "metadata": {},
   "source": [
    "<head>\n",
    "<style>\n",
    "    body {\n",
    "        color: purple;\n",
    "        font-family: 'Courier New';\n",
    "    }\n",
    "</style>\n",
    "</head>\n",
    "\n",
    "<body>\n",
    "## Topics of discussion -\n",
    "\n",
    "#### 1. Our Rpg\n",
    "How our rpg game functions and how it performed at N@tm.\n",
    "\n",
    "#### 2. Tinkers\n",
    "What we did to make the game more interesting and unique.\n",
    "\n",
    "#### 3. Reflection on my journey and future plans\n",
    "What I learned in CSSE and what I will do in future classes\n",
    "\n",
    "# ------------------------------------------------------------------------\n",
    "\n",
    "### RPG game\n",
    "\n",
    "Demo:\n",
    "![A bad video game]({{site.baseurl}}/notebooks/foundation/IMG_0635.mp4)\n",
    "\n",
    "Our rpg was a tag game, based around the player trying to tag Bobby, and not get tagged in the process. Bobby bounced around the game canvas and bounced in a random direction everytime he hit a wall. However, the size of every sprite in the game was broken, as well as the character sprite being swapped with an NPC's.\n",
    "\n",
    "### N@tm\n",
    "\n",
    "N@tm feedback:\n",
    "![Google Form](https://docs.google.com/forms/d/e/1FAIpQLSf4lbBiDEWlUiQ115aD-WGxh-NKV6tsbskZl_mbdLF2tamwMQ/viewform?usp=sharing \"Edit the form to view responses\")\n",
    "\n",
    "Examples: \"Get it to work. Awesome page though\", \"I think that the the characters are cool and idea is good but the game is very buggy and does not work very well\", \"I like the concept and I believe that if you clean things up it could be a fun game to play. I recommend that you fit the game to the screen.\"\n",
    "\n",
    "At N@TM, we showcased our game and got mostly got reviews telling us to \n",
    "</body>"
   ]
  }
 ],
 "metadata": {
  "language_info": {
   "name": "python"
  }
 },
 "nbformat": 4,
 "nbformat_minor": 2
}

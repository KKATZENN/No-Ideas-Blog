{
 "cells": [
  {
   "cell_type": "raw",
   "metadata": {
    "vscode": {
     "languageId": "raw"
    }
   },
   "source": [
    "---\n",
    "title: Reflection\n",
    "layout: post\n",
    "description: I reflect on my RPG game and make plans for the future\n",
    "permalink: /rpggame/Reflection\n",
    "comments: true\n",
    "---"
   ]
  },
  {
   "cell_type": "markdown",
   "metadata": {},
   "source": [
    "## Topics of discussion -\n",
    "\n",
    "#### 1. Our Rpg\n",
    "How our rpg game functions and how it performed at N@tm.\n",
    "\n",
    "#### 2. Tinkers\n",
    "What we did to make the game more interesting and unique.\n",
    "\n",
    "#### 3. Reflection on my journey and future plans"
   ]
  }
 ],
 "metadata": {
  "language_info": {
   "name": "python"
  }
 },
 "nbformat": 4,
 "nbformat_minor": 2
}

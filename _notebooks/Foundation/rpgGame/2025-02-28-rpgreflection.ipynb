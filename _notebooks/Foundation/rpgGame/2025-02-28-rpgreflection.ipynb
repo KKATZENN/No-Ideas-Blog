{
 "cells": [
  {
   "cell_type": "raw",
   "metadata": {
    "vscode": {
     "languageId": "raw"
    }
   },
   "source": [
    "---\n",
    "title: Reflection\n",
    "layout: post\n",
    "description: A reflection me and Shayan's RPG game and make plans for the future\n",
    "permalink: /rpggame/Reflection\n",
    "author: Paul Yue; Co-game creator - Shayan;\n",
    "comments: true\n",
    "---"
   ]
  },
  {
   "cell_type": "markdown",
   "metadata": {},
   "source": [
    "<head>\n",
    "<style>\n",
    "    h2 {\n",
    "        color: purple;\n",
    "        font-family: 'Courier New';\n",
    "    }\n",
    "    h3 {\n",
    "        color: purple;\n",
    "        font-family: 'Courier New';\n",
    "    }\n",
    "    h4 {\n",
    "        color: purple;\n",
    "        font-family: 'Courier New';\n",
    "    }\n",
    "    p {\n",
    "        color: lightgreen;\n",
    "        font-family: 'Courier New'\n",
    "    }\n",
    "</style>\n",
    "</head>\n",
    "\n",
    "<body>\n",
    "\n",
    "<h2> Topics of discussion - </h2>\n",
    "\n",
    "<h4> 1. Our Rpg </h4>\n",
    "<p> How our rpg game functions and how it performed at N@tm.</p>\n",
    "\n",
    "<h4> 2. Tinkers </h4>\n",
    "<p> What we did to make the game more interesting and unique.\n",
    "\n",
    "<h4>> 3. Reflection on my journey and future plans </h4>\n",
    "<p> What I learned in CSSE and what I will do in future classes </p>\n",
    "\n",
    "<h1> ------------------------------------------------------------------------ </h1>\n",
    "\n",
    "<h3> RPG game </h3>\n",
    "\n",
    "<p> Demo: </p>\n",
    "<video width=\"400\" height=\"400\" muted >\n",
    "<source src=\"/images/notebooks/foundation/IMG_0635.mp4\" alt=\"A bad video game\">\n",
    "</video>\n",
    "<br>\n",
    "\n",
    "<p> Our rpg was a tag game, based around the player trying to tag Bobby, and not get tagged in the process. Bobby bounced around the game canvas and bounced in a random direction everytime he hit a wall. However, the size of every sprite in the game was broken, as well as the character sprite being swapped with an NPC's. \n",
    "\n",
    "<br>\n",
    "\n",
    "Had our game worked, there would have been a bunch of cool features! Our player would be able to tag Bobby, and consequently highlight the person who is \"it\". This would allow the player to find out who is currently 'it\" by giving them a green border. Bobby isn't that easy to catch however, he bounces around the game area pretty quickly. By coding in a feature where the NPC moves and bounces around randomly, we make the game actually about tag! Finally, if you talk to the \"Paul\" npc, then he will increase your speed by 1.5x</p>\n",
    "\n",
    "<h3> N@tm </h3>\n",
    "\n",
    "<p> N@tm feedback: </p>\n",
    "<a href=\"https://docs.google.com/forms/d/1e9n5puR6xXhwoLvVhTJuXLyg1bYdiTBYfSetN_YYQLs/edit\">\n",
    "<p> Form </p>\n",
    "</a>\n",
    "\n",
    "<br>\n",
    "\n",
    "<p> Examples: \"Get it to work. Awesome page though\", \"I think that the the characters are cool and idea is good but the game is very buggy and does not work very well\", \"I like the concept and I believe that if you clean things up it could be a fun game to play. I recommend that you fit the game to the screen.\"\n",
    "\n",
    "<br>\n",
    "\n",
    "At N@TM, we showcased our game and got mostly got reviews telling us to maily fix the game, since it was extremely broken.</p>\n",
    "</body>"
   ]
  }
 ],
 "metadata": {
  "language_info": {
   "name": "python"
  }
 },
 "nbformat": 4,
 "nbformat_minor": 2
}

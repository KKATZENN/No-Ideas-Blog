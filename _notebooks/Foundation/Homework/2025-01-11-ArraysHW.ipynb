{
 "cells": [
  {
   "cell_type": "markdown",
   "metadata": {},
   "source": [
    "# Homework!! #\n",
    "\n",
    "Your task is to fill in the following code to alter the arrays!"
   ]
  },
  {
   "cell_type": "markdown",
   "metadata": {},
   "source": [
    "## Popcorn Hack 2:\n",
    "\n",
    "instructions:\n",
    " - Create a length of a list and print it in console.log()\n",
    " - Create a variable called \"list\" or \"my_list_2\"\n",
    " - Create a list of numbers or words in the brackets [] Exp: let your_list = [3, 7, 9, 21];\n",
    " - Create a const length = your_list.length;\n",
    " - After all of that, finally print it out in console.log() Exp: console.log(your_list);"
   ]
  },
  {
   "cell_type": "code",
   "execution_count": 15,
   "metadata": {
    "vscode": {
     "languageId": "javascript"
    }
   },
   "outputs": [
    {
     "data": {
      "application/javascript": "\nlet listy = [`4`, `8`, `16`, `32`, `64`]; // create an variable\nconst length = listy.length; // create a const length\n\nconsole.log(listy); // print out your list in console\n",
      "text/plain": [
       "<IPython.core.display.Javascript object>"
      ]
     },
     "metadata": {},
     "output_type": "display_data"
    }
   ],
   "source": [
    "%%js\n",
    "\n",
    "let listy = [`4`, `8`, `16`, `32`, `64`]; // create an variable\n",
    "const length = listy.length; // create a const length\n",
    "\n",
    "console.log(listy); // print out your list in console\n"
   ]
  },
  {
   "cell_type": "markdown",
   "metadata": {},
   "source": [
    "# Lesson 1 Homework"
   ]
  },
  {
   "cell_type": "code",
   "execution_count": 3,
   "metadata": {
    "vscode": {
     "languageId": "javascript"
    }
   },
   "outputs": [
    {
     "data": {
      "application/javascript": "//We have an array made for you, but something's off...\nlet desserts = [\"lemon\",\"delete1\",\"ice cream\",\"chocolate cake\",\"key lime pie\",\"delete2\"];\n//We need to get rid of the elements labeled delete1 and delete2!\ndesserts.pop();//which command gets rid of the last element in the array?\ndesserts.splice(1,1);//which command will delete the delete 1 element and how do you use it??\n\n//now that that's done... a lemon isn't a dessert unless you're weird... maybe change it to a lemon-themed dessert?\ndesserts[\"lemon\"]=\"lemon meringue\";\n\n//hint for the previous 2 fill-in-the-blanks: the indexing starts at 0\nconsole.log(desserts);\n//okay okay, you've proven your skills... now all that's left is to print the list!\n",
      "text/plain": [
       "<IPython.core.display.Javascript object>"
      ]
     },
     "metadata": {},
     "output_type": "display_data"
    }
   ],
   "source": [
    "%%js\n",
    "//We have an array made for you, but something's off...\n",
    "let desserts = [\"lemon\",\"delete1\",\"ice cream\",\"chocolate cake\",\"key lime pie\",\"delete2\"];\n",
    "//We need to get rid of the elements labeled delete1 and delete2!\n",
    "desserts.pop();//which command gets rid of the last element in the array?\n",
    "desserts.splice(1,1);//which command will delete the delete 1 element and how do you use it??\n",
    "\n",
    "//now that that's done... a lemon isn't a dessert unless you're weird... maybe change it to a lemon-themed dessert?\n",
    "desserts[\"lemon\"]=\"lemon meringue\";\n",
    "\n",
    "//hint for the previous 2 fill-in-the-blanks: the indexing starts at 0\n",
    "console.log(desserts);\n",
    "//okay okay, you've proven your skills... now all that's left is to print the list!"
   ]
  },
  {
   "cell_type": "markdown",
   "metadata": {},
   "source": [
    "# Lesson 2 Homework - Part 1"
   ]
  },
  {
   "cell_type": "code",
   "execution_count": 14,
   "metadata": {
    "vscode": {
     "languageId": "javascript"
    }
   },
   "outputs": [
    {
     "data": {
      "application/javascript": "//Okay, this will be a little tougher. We can put your knowledge of the second lesson to the test. (ignore that this concept is easy compared to the other lessons lol)\nlet lippy = [1,3,9,27,81,3,9,27];\n//I want you to create a list of whatever you'd like (integers or strings, it really doesn't matter) and have a repeating element in it. ex: let list = [1,2,3,1,4]; \nconst length = lippy.length;\n\n//Ok, now I know this is about arrays, but could you make a for loop to iterate through each element and print the index of them?\nfor (let i=0; i<=lippy.length; i++) {\n    console.log(lippy.indexOf(lippy[i]));\n};\n\n\n\n\n\n\n//Wait! You remember that repeating element I made you put in your list? Create a separate command outside of the loop to print the index of the last occurring repeated value.\n\n\n\n",
      "text/plain": [
       "<IPython.core.display.Javascript object>"
      ]
     },
     "metadata": {},
     "output_type": "display_data"
    }
   ],
   "source": [
    "%%js\n",
    "//Okay, this will be a little tougher. We can put your knowledge of the second lesson to the test. (ignore that this concept is easy compared to the other lessons lol)\n",
    "let lippy = [1,3,9,27,81,3,9,27];\n",
    "//I want you to create a list of whatever you'd like (integers or strings, it really doesn't matter) and have a repeating element in it. ex: let list = [1,2,3,1,4]; \n",
    "const length = lippy.length;\n",
    "\n",
    "//Ok, now I know this is about arrays, but could you make a for loop to iterate through each element and print the index of them?\n",
    "for (\n",
    "    let i=0; i<=lippy.length; i++) {\n",
    "    console.log(lippy.indexOf(lippy[i]));\n",
    "};\n",
    "\n",
    "for (\n",
    "    let 1=0; i<lippy.length; i++) {\n",
    "        console.log(lippy.indexOf(lippy[1]));\n",
    "    }\n",
    "\n",
    "\n",
    "\n",
    "\n",
    "//Wait! You remember that repeating element I made you put in your list? Create a separate command outside of the loop to print the index of the last occurring repeated value.\n",
    "\n",
    "\n",
    "\n"
   ]
  },
  {
   "cell_type": "markdown",
   "metadata": {},
   "source": [
    "# Lesson 2 Homework - Part 2"
   ]
  },
  {
   "cell_type": "code",
   "execution_count": 12,
   "metadata": {
    "vscode": {
     "languageId": "javascript"
    }
   },
   "outputs": [
    {
     "data": {
      "application/javascript": "//This is the fairly simple final problem of arrays!\nlet fourtyyearvirgin = [\"f\", \"o\", \"u\", \"r\", \"t\", \"y\"];\n//Create a list here that includes whatever you'd like once again.\nlet fhere = fourtyyearvirgin.includes(`f`);\nconst length = fourtyyearvirgin.length;\n\nconsole.log(length);\n//Now, print the length of your list! Tip: you don't need to create a variable for the list's length! Just console.log the list.length; it saves you a line :D\nconsole.log(fhere);\n\n\n//Finally, create a variable to check if a value in your list is included in the list and print that variable you created (it should output true or false)\n\n",
      "text/plain": [
       "<IPython.core.display.Javascript object>"
      ]
     },
     "metadata": {},
     "output_type": "display_data"
    }
   ],
   "source": [
    "%%js\n",
    "//This is the fairly simple final problem of arrays!\n",
    "let fourtyyearvirgin = [\"f\", \"o\", \"u\", \"r\", \"t\", \"y\"];\n",
    "//Create a list here that includes whatever you'd like once again.\n",
    "let fhere = fourtyyearvirgin.includes(`f`);\n",
    "const length = fourtyyearvirgin.length;\n",
    "\n",
    "console.log(length);\n",
    "//Now, print the length of your list! Tip: you don't need to create a variable for the list's length! Just console.log the list.length; it saves you a line :D\n",
    "console.log(fhere);\n",
    "\n",
    "\n",
    "//Finally, create a variable to check if a value in your list is included in the list and print that variable you created (it should output true or false)\n",
    "\n"
   ]
  },
  {
   "cell_type": "markdown",
   "metadata": {
    "vscode": {
     "languageId": "javascript"
    }
   },
   "source": [
    "You're done with your homework!!"
   ]
  }
 ],
 "metadata": {
  "kernelspec": {
   "display_name": "Python 3",
   "language": "python",
   "name": "python3"
  },
  "language_info": {
   "codemirror_mode": {
    "name": "ipython",
    "version": 3
   },
   "file_extension": ".py",
   "mimetype": "text/x-python",
   "name": "python",
   "nbconvert_exporter": "python",
   "pygments_lexer": "ipython3",
   "version": "3.10.12"
  }
 },
 "nbformat": 4,
 "nbformat_minor": 2
}

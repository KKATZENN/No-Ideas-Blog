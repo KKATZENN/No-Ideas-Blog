{
 "cells": [
  {
   "cell_type": "code",
   "execution_count": null,
   "metadata": {},
   "outputs": [],
   "source": [
    "---\n",
    "layout: post\n",
    "title: Homework\n",
    "description: Homework after condition lesson \n",
    "categories: [CSSE JavaScript Fundamentals]\n",
    "courses: { csse: {week: 0}, csp: {week: 0 }, csa: {week: 0}}\n",
    "type: collab\n",
    "permalink: /Conditions_HW\n",
    "author: Yasna Ahmadi, Katherine Law, Yuna Lee, Namira Sharif\n",
    "toc: true\n",
    "---"
   ]
  },
  {
   "cell_type": "markdown",
   "metadata": {},
   "source": [
    "\n",
    "## Homeworks  \n",
    "\n",
    "\n",
    "### Part 1:\n",
    " Choose one from the three options to make a conditonal statement and if help is needed, use the Format at the bottom of the page.\n",
    "\n",
    "#### Option 1: Grade Checker \n",
    "Example for the grade checker:\n",
    "\n",
    "\"F\" if the grade is below 60.\n",
    "\"D\" if the grade is between 60 and 69.\n",
    "\"C\" if the grade is between 70 and 79.\n",
    "\"B\" if the grade is between 80 and 89.\n",
    "\"A\" if the grade is 90 or above.\n",
    "\n",
    "#### Option 2: Weather app\n",
    "Example for a weather app:\n",
    "\n",
    "If the weather is sunny, print: \"It's a great day to go outside!\"\n",
    "If the weather is rainy, print: \"Don't forget your umbrella!\"\n",
    "If the weather is snowy, print: \"Stay warm and safe!\"\n",
    "\n",
    "#### Option 3: Character Health Status\n",
    "Example for a character health status:\n",
    "\n",
    "If the health is 0, print: \"Your character is dead.\"\n",
    "If the health is between 1 and 25, print: \"Critical condition! Find a health pack!\"\n",
    "If the health is between 26 and 75, print: \"Your character is wounded. Be cautious.\"\n",
    "If the health is above 75, print: \"Your character is healthy and ready for action!\"\n",
    "\n",
    "### Part 2:\n",
    " Make another conditional statement with your idea.\n",
    "\n",
    " Make any If-Then, If, or Then-If statements with different ideas.\n",
    "\n",
    "\n",
    "##### Format: "
   ]
  },
  {
   "cell_type": "code",
   "execution_count": null,
   "metadata": {
    "vscode": {
     "languageId": "javascript"
    }
   },
   "outputs": [],
   "source": [
    "let yourVariable = \"\"; // Change this to your input or value\n",
    "\n",
    "if (/* your first condition */) {\n",
    "    console.log(/* your first output */);\n",
    "} else if (/* your second condition */) {\n",
    "    console.log(/* your second output */);\n",
    "} else {\n",
    "    console.log(/* your default output */);\n",
    "}"
   ]
  },
  {
   "cell_type": "markdown",
   "metadata": {
    "vscode": {
     "languageId": "raw"
    }
   },
   "source": [
    "##### After testing any of the options, revise it and make another one from the options.\n"
   ]
  },
  {
   "cell_type": "markdown",
   "metadata": {},
   "source": [
    "### Part 1 - Option 2:"
   ]
  },
  {
   "cell_type": "code",
   "execution_count": 1,
   "metadata": {
    "vscode": {
     "languageId": "javascript"
    }
   },
   "outputs": [
    {
     "data": {
      "application/javascript": "\nlet weather = \"Sunny\";\nlet season = \"Summer\";\nlet chanceOfRain = 54;\n\nif (weather == \"Sunny\") { //check weather\n    console.log(\"It's great day outside. Go do something!\");\n} else if (weather == \"Rainy\") {\n    console.log(\"Hey, before you go outside, you'll need an umbrella!\");\n} else {\n    console.log(\"Hey, it's pretty cold out there. Maybe you should take a coat.\");\n}\nif (season == \"Summer\") { //check season\n    console.log(\"It's hot today! Put on some sunscreen and cooler clothing.\");\n} else if (season == \"Winter\") {\n    console.log(\"It's cold today! Put on some gloves and warmer clothing.\");\n} else {\n    console.log(\"Doesn't reall matter what you wear. Im sure whatever you're wearing is fine.\");\n}\nif (chanceOfRain >= 50) { //check chance of rain\n    console.log(\"It might rain today. Bring an umbrella just in case\");\n}\n",
      "text/plain": [
       "<IPython.core.display.Javascript object>"
      ]
     },
     "metadata": {},
     "output_type": "display_data"
    }
   ],
   "source": [
    "%%js \n",
    "\n",
    "let weather = \"Sunny\";\n",
    "let season = \"Summer\";\n",
    "let chanceOfRain = 54;\n",
    "\n",
    "if (weather == \"Sunny\") { //check weather\n",
    "    console.log(\"It's great day outside. Go do something!\");\n",
    "} else if (weather == \"Rainy\") {\n",
    "    console.log(\"Hey, before you go outside, you'll need an umbrella!\");\n",
    "} else {\n",
    "    console.log(\"Hey, it's pretty cold out there. Maybe you should take a coat.\");\n",
    "}\n",
    "if (season == \"Summer\") { //check season\n",
    "    console.log(\"It's hot today! Put on some sunscreen and cooler clothing.\");\n",
    "} else if (season == \"Winter\") {\n",
    "    console.log(\"It's cold today! Put on some gloves and warmer clothing.\");\n",
    "} else {\n",
    "    console.log(\"Doesn't reall matter what you wear. Im sure whatever you're wearing is fine.\");\n",
    "}\n",
    "if (chanceOfRain >= 50) { //check chance of rain\n",
    "    console.log(\"It might rain today. Bring an umbrella just in case.\");\n",
    "}"
   ]
  },
  {
   "cell_type": "markdown",
   "metadata": {},
   "source": [
    "### Part 2:"
   ]
  },
  {
   "cell_type": "code",
   "execution_count": 9,
   "metadata": {
    "vscode": {
     "languageId": "javascript"
    }
   },
   "outputs": [
    {
     "data": {
      "application/javascript": "\nlet cash = 4;\n\nif (cash >= 12) {\n    cash -= 12;\n    console.log(`You can buy this! You have ${cash} left`)\n} else if (cash <= 12) {\n    cash -= 12;\n    console.log(`Sorry! You can't buy this! You need (+)${cash} more cash.`)\n} else {\n    console.log(\"Hello there! What would you like to buy?\")\n}\n",
      "text/plain": [
       "<IPython.core.display.Javascript object>"
      ]
     },
     "metadata": {},
     "output_type": "display_data"
    }
   ],
   "source": [
    "%%js \n",
    "\n",
    "let cash = 4;\n",
    "\n",
    "if (cash >= 12) {\n",
    "    cash -= 12;\n",
    "    console.log(`You can buy this! You have ${cash} left`)\n",
    "} else if (cash <= 12) {\n",
    "    cash -= 12;\n",
    "    console.log(`Sorry! You can't buy this! You need (+)${cash} more cash.`)\n",
    "} else {\n",
    "    console.log(\"Hello there! What would you like to buy?\")\n",
    "}"
   ]
  }
 ],
 "metadata": {
  "kernelspec": {
   "display_name": "Python 3",
   "language": "python",
   "name": "python3"
  },
  "language_info": {
   "codemirror_mode": {
    "name": "ipython",
    "version": 3
   },
   "file_extension": ".py",
   "mimetype": "text/x-python",
   "name": "python",
   "nbconvert_exporter": "python",
   "pygments_lexer": "ipython3",
   "version": "3.10.12"
  }
 },
 "nbformat": 4,
 "nbformat_minor": 2
}

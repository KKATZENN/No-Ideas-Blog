{
 "cells": [
  {
   "cell_type": "code",
   "execution_count": null,
   "metadata": {},
   "outputs": [],
   "source": [
    "---\n",
    "layout: post\n",
    "title: Popcorn Hacks\n",
    "description: Popcorn hacks for conditions!\n",
    "categories: [CSSE JavaScript Fundamentals]\n",
    "courses: { csse: {week: 0}, csp: {week: 0 }, csa: {week: 0}}\n",
    "type: collab\n",
    "permalink: /csse/javascript/fundamentals/conditions_hacks\n",
    "author: Yasna Ahmadi, Katherine Law, Yuna Lee, Namira Sharif\n",
    "toc: true\n",
    "---"
   ]
  },
  {
   "cell_type": "markdown",
   "metadata": {},
   "source": [
    "# Popcorn Hacks!\n",
    "You're at the mall with your friends, and head into the Build-A-Bear store. Use conditionals to decide what kind of bear you want with different accessories! The employee comes up to you and explains the steps. She states...\n",
    "\n",
    "\"Choose Me: Pick that special furry friend — from a silly superhero to a sporty mascot and a cheerleading bunny to a snuggly teddy bear.\n",
    "Hear Me: Add a special sound effect to your furry friend.\n",
    "Stuff Me: Customize your creation with sounds, scents, stuffing and, of course, our iconic special heart that holds your love and wishes.\n",
    "Hug Me: Give your furry friend its first hug to make sure it’s stuffed just right.\n",
    "Dress Me: Turn up the fun with outfits and extras!\n",
    "Name Me: It’s official once your creation has a birth certificate of its bear-y own!\"\n",
    "\n",
    "### Hack 1: Simple If-Statement\n",
    "Create a variable based on what kind of stuffed animal you want."
   ]
  },
  {
   "cell_type": "code",
   "execution_count": 1,
   "metadata": {
    "vscode": {
     "languageId": "javascript"
    }
   },
   "outputs": [
    {
     "data": {
      "application/javascript": "let bearType = \"Unicornio\"; //Choose what kind of bear you want: Teddy or Unicorn (Example: let bearType = \"Teddyy\")\n\nif (bearType === \"Unicornio\") { //Put the same bear type from above into this line\n    console.log(\"You picked a snuggly Unicornio bear!\");\n}\n",
      "text/plain": [
       "<IPython.core.display.Javascript object>"
      ]
     },
     "metadata": {},
     "output_type": "display_data"
    }
   ],
   "source": [
    "%%js\n",
    "let bearType = \"Unicornio\"; //Choose what kind of bear you want: Teddy or Unicorn (Example: let bearType = \"Teddyy\")\n",
    "\n",
    "if (bearType === \"Unicornio\") { //Put the same bear type from above into this line\n",
    "    console.log(\"You picked a snuggly Unicornio bear!\");\n",
    "}"
   ]
  },
  {
   "cell_type": "markdown",
   "metadata": {},
   "source": [
    "### Hack 2: If-Else Statement\n",
    "Add a sound to the bear based on the type chosen."
   ]
  },
  {
   "cell_type": "code",
   "execution_count": 4,
   "metadata": {
    "vscode": {
     "languageId": "javascript"
    }
   },
   "outputs": [
    {
     "data": {
      "application/javascript": "let bearType = \"Unicornio\"; //Put the same bear type as before.\n\nif (bearType ===\"Teddy\") {\n    console.log(\"Your Teddy snores...\");\n} else if (bearType === \"Unicorn\") {\n    console.log(\"Your Unicorn neighs loud...\")\n} else {\n    console.log(\"What is that.\")\n}\n",
      "text/plain": [
       "<IPython.core.display.Javascript object>"
      ]
     },
     "metadata": {},
     "output_type": "display_data"
    }
   ],
   "source": [
    "%%js\n",
    "let bearType = \"Unicornio\"; //Put the same bear type as before.\n",
    "\n",
    "if (bearType ===\"Teddy\") {\n",
    "    console.log(\"Your Teddy snores...\");\n",
    "} else if (bearType === \"Unicorn\") {\n",
    "    console.log(\"Your Unicorn neighs loud...\")\n",
    "} else {\n",
    "    console.log(\"What is that.\")\n",
    "}\n"
   ]
  },
  {
   "cell_type": "markdown",
   "metadata": {},
   "source": [
    "### Hack 3: Else-If Statement\n",
    "Choose the stuffing type using an If-Else-If statement"
   ]
  },
  {
   "cell_type": "code",
   "execution_count": 3,
   "metadata": {
    "vscode": {
     "languageId": "javascript"
    }
   },
   "outputs": [
    {
     "data": {
      "application/javascript": "let stuffingType = \"Flirm\"; //Choose a stuffing: Fluffy, Firm, or Squishy\n\nif (stuffingType === \"Fluffy\") {\n    console.log(\"Your bear will be extra soft and fluffy!\");\n} else if (stuffingType === \"Firm\") {\n    console.log (\"Your bear will have a firm, sturdy feel.\");\n} else  if (stuffingType === \"Squishy\") {\n    console.log(\"Your bear will be nice and squishy!\");\n} else {\n    console.log(\"What on god's earth is this?\");\n}\n",
      "text/plain": [
       "<IPython.core.display.Javascript object>"
      ]
     },
     "metadata": {},
     "output_type": "display_data"
    }
   ],
   "source": [
    "%%js\n",
    "let stuffingType = \"Flirm\"; //Choose a stuffing: Fluffy, Firm, or Squishy\n",
    "\n",
    "if (stuffingType === \"Fluffy\") {\n",
    "    console.log(\"Your bear will be extra soft and fluffy!\");\n",
    "} else if (stuffingType === \"Firm\") {\n",
    "    console.log (\"Your bear will have a firm, sturdy feel.\");\n",
    "} else  if (stuffingType === \"Squishy\") {\n",
    "    console.log(\"Your bear will be nice and squishy!\");\n",
    "} else {\n",
    "    console.log(\"What on god's earth is this?\");\n",
    "}"
   ]
  },
  {
   "cell_type": "markdown",
   "metadata": {},
   "source": [
    "### Hack 4: Switch Statement\n",
    "Use a switch statement to pick a bear outfit"
   ]
  },
  {
   "cell_type": "code",
   "execution_count": 6,
   "metadata": {
    "vscode": {
     "languageId": "javascript"
    }
   },
   "outputs": [
    {
     "data": {
      "application/javascript": "let bearOutfit = \"Loan shark\"; // Choose an outfit: \"Superhero\", \"Cheerleader\", \"Pirate\", \"Princess\"\n\nswitch (bearOutfit) {\n    case \"Superhero\":\n        console.log(\"Your bear is ready to save the day in a Superhero costume!\");\n        break;\n    case \"Cheerleader\":\n        console.log(\"Your bear will cheer with its Cheerleader outfit!\");\n        break;\n    case \"Pirate\":\n        console.log(\"Ahoy! Your bear is ready to sail in a Pirate costume!\");\n        break;\n    case \"Loan shark\":\n        console.log(\"How, and why is your teddy bear in the financial department?\")\n        break;\n    default:\n        console.log(\"Your bear is ready for a royal adventure in a Princess outfit!\");\n}\n",
      "text/plain": [
       "<IPython.core.display.Javascript object>"
      ]
     },
     "metadata": {},
     "output_type": "display_data"
    }
   ],
   "source": [
    "%%js\n",
    "let bearOutfit = \"Loan shark\"; // Choose an outfit: \"Superhero\", \"Cheerleader\", \"Pirate\", \"Princess\"\n",
    "\n",
    "switch (bearOutfit) {\n",
    "    case \"Superhero\":\n",
    "        console.log(\"Your bear is ready to save the day in a Superhero costume!\");\n",
    "        break;\n",
    "    case \"Cheerleader\":\n",
    "        console.log(\"Your bear will cheer with its Cheerleader outfit!\");\n",
    "        break;\n",
    "    case \"Pirate\":\n",
    "        console.log(\"Ahoy! Your bear is ready to sail in a Pirate costume!\");\n",
    "        break;\n",
    "    case \"Loan shark\":\n",
    "        console.log(\"How, and why is your teddy bear in the financial department?\")\n",
    "        break;\n",
    "    default:\n",
    "        console.log(\"Your bear is ready for a royal adventure in a Princess outfit!\");\n",
    "}\n"
   ]
  },
  {
   "cell_type": "markdown",
   "metadata": {},
   "source": [
    "### Hack 5: Complete Build-A-Bear Experience\n",
    "Combine all conditionals to create new types of bears, stuffings, and outfits in a single code cell!"
   ]
  },
  {
   "cell_type": "code",
   "execution_count": 6,
   "metadata": {
    "vscode": {
     "languageId": "javascript"
    }
   },
   "outputs": [
    {
     "data": {
      "application/javascript": "let bearType = \"______\"; //Make a type of bear!\nlet stuffingType = \"______\"; //Choose a type of stuffing!\nlet bearOutfit = \"______\"; //Create your own outfit!\n\n// Step 1: Choose Me\nif (bearType === \"______\") { //Choose a bear type\n    console.log(\"__________________\"); //Create a console message for the specified bear type\n} else if (bearType === \"______\") {\n    console.log(\"__________________\");\n} else {\n    console.log(\"__________________\");\n}\n\n//Repeat these steps. When finished, you should be able to choose your own type of bear, stuffing, and outfit within a single code cell. Be creative and have fun!!!\n// Step 2: Hear Me\nif (bearType === \"______\") {\n    console.log(\"__________________\");\n} else {\n    console.log(\"__________________\");\n}\n\n// Step 3: Stuff Me\nif (stuffingType === \"______\") {\n    console.log(\"__________________\");\n} else if (stuffingType === \"______\") {\n    console.log(\"__________________\");\n} else {\n    console.log(\"__________________\");\n}\n\n// Step 4: Dress Me\nswitch (bearOutfit) {\n    case \"______\":\n        console.log(\"__________________\");\n        break;\n    case \"______\":\n        console.log(\"__________________\");\n        break;\n    case \"______\":\n        console.log(\"__________________\");\n        break;\n    default:\n        console.log(\"__________________\");\n}\n",
      "text/plain": [
       "<IPython.core.display.Javascript object>"
      ]
     },
     "metadata": {},
     "output_type": "display_data"
    }
   ],
   "source": [
    "%%js\n",
    "let bearType = \"Woopy duffy luffy grouch chingo\"; //Make a type of bear!\n",
    "let stuffingType = \"Flimchy\"; //Choose a type of stuffing!\n",
    "let bearOutfit = \"Aarav Lohiya\"; //Create your own outfit!\n",
    "\n",
    "// Step 1: Choose Me\n",
    "if (bearType === \"Woopy duffy luffy grouch chingo\") { //Choose a bear type\n",
    "    console.log(\"You chose a... a... Woopy duffy luffy grouch chingo??\"); //Create a console message for the specified bear type\n",
    "} else if (bearType === \"Teddy\") {\n",
    "    console.log(\"You chose a Teddy Bear!\");\n",
    "} else {\n",
    "    console.log(\"You chose a Unicorn Bear\");\n",
    "}\n",
    "\n",
    "//Repeat these steps. When finished, you should be able to choose your own type of bear, stuffing, and outfit within a single code cell. Be creative and have fun!!!\n",
    "// Step 2: Hear Me\n",
    "if (bearType === \"Woopy duffy luffy grouch chingo\") {\n",
    "    console.log(\"They snore normally, as if they aren't some abhorrent being.\");\n",
    "} else {\n",
    "    console.log(\"Your teddy bear snores as it slumbers.\");\n",
    "}\n",
    "\n",
    "// Step 3: Stuff Me\n",
    "if (stuffingType === \"Flimchy\") {\n",
    "    console.log(\"This feels suprisingly good!\");\n",
    "} else if (stuffingType === \"Fluffy\") {\n",
    "    console.log(\"Your Bear is fluffy!\");\n",
    "} else {\n",
    "    console.log(\"Your Bear is squishy!\");\n",
    "}\n",
    "\n",
    "// Step 4: Dress Me\n",
    "switch (bearOutfit) {\n",
    "    case \"Aarav Lohiya\":\n",
    "        console.log(\"I have no idea how to describe some one of such competence yet incompetence.\");\n",
    "        break;\n",
    "    case \"Cowboy\":\n",
    "        console.log(\"Yeehaw! Your Bear is a cowboy!\");\n",
    "        break;\n",
    "    case \"Astronaut\":\n",
    "        console.log(\"Off to space we go!\");\n",
    "        break;\n",
    "    default:\n",
    "        console.log(\"Your bear is unemployed.\");\n",
    "}\n"
   ]
  }
 ],
 "metadata": {
  "kernelspec": {
   "display_name": "Python 3",
   "language": "python",
   "name": "python3"
  },
  "language_info": {
   "codemirror_mode": {
    "name": "ipython",
    "version": 3
   },
   "file_extension": ".py",
   "mimetype": "text/x-python",
   "name": "python",
   "nbconvert_exporter": "python",
   "pygments_lexer": "ipython3",
   "version": "3.10.12"
  }
 },
 "nbformat": 4,
 "nbformat_minor": 2
}
